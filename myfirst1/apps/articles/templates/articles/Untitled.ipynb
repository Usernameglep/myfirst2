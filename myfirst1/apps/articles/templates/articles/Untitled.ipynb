{
 "cells": [
  {
   "cell_type": "code",
   "execution_count": 7,
   "id": "2a69f83b",
   "metadata": {},
   "outputs": [
    {
     "data": {
      "text/plain": [
       "[<div class=\"col-12 col-xl-8 maintext\"><div class=\"path4\"><a href=\"/cars\">Êàòàëîã àâòîìîáèëåé</a></div><h1>Àëüôà Ðîìåî</h1></div>,\n",
       " <div class=\"col-12 col-xl-8 maintext\"><h2 class=\"h2-cars\" style=\"margin-top:1em\">Ìîäåëüíûé ðÿä Àëüôà Ðîìåî</h2><div class=\"row cars-list-2\"><div class=\"col-6 col-sm-4\"><a href=\"/cars/alfaromeo/145\"><img class=\"img-fluid\" src=\"/i/carsmini/alfaromeo145.jpg\"/></a><p class=\"cars-list-head\"><a href=\"/cars/alfaromeo/145\">Alfa Romeo 145</a></p></div><div class=\"col-6 col-sm-4\"><a href=\"/cars/alfaromeo/146\"><img class=\"img-fluid\" src=\"/i/carsmini/alfaromeo146.jpg\"/></a><p class=\"cars-list-head\"><a href=\"/cars/alfaromeo/146\">Alfa Romeo 146</a></p></div><div class=\"col-6 col-sm-4\"><a href=\"/cars/alfaromeo/147\"><img class=\"img-fluid\" src=\"/i/carsmini/alfaromeo147.jpg\"/></a><p class=\"cars-list-head\"><a href=\"/cars/alfaromeo/147\">Alfa Romeo 147</a></p></div><div class=\"col-6 col-sm-4\"><a href=\"/cars/alfaromeo/155\"><img class=\"img-fluid\" src=\"/i/carsmini/alfaromeo155.jpg\"/></a><p class=\"cars-list-head\"><a href=\"/cars/alfaromeo/155\">Alfa Romeo 155</a></p></div><div class=\"col-6 col-sm-4\"><a href=\"/cars/alfaromeo/156\"><img class=\"img-fluid\" src=\"/i/carsmini/alfaromeo156.jpg\"/></a><p class=\"cars-list-head\"><a href=\"/cars/alfaromeo/156\">Alfa Romeo 156</a></p></div><div class=\"col-6 col-sm-4\"><a href=\"/cars/alfaromeo/159\"><img class=\"img-fluid\" src=\"/i/carsmini/alfaromeo159.jpg\"/></a><p class=\"cars-list-head\"><a href=\"/cars/alfaromeo/159\">Alfa Romeo 159</a></p></div><div class=\"col-6 col-sm-4\"><a href=\"/cars/alfaromeo/164\"><img class=\"img-fluid\" src=\"/i/carsmini/alfaromeo164.jpg\"/></a><p class=\"cars-list-head\"><a href=\"/cars/alfaromeo/164\">Alfa Romeo 164</a></p></div><div class=\"col-6 col-sm-4\"><a href=\"/cars/alfaromeo/166\"><img class=\"img-fluid\" src=\"/i/carsmini/alfaromeo166.jpg\"/></a><p class=\"cars-list-head\"><a href=\"/cars/alfaromeo/166\">Alfa Romeo 166</a></p></div><div class=\"col-6 col-sm-4\"><a href=\"/cars/alfaromeo/1900m\"><img class=\"img-fluid\" src=\"/i/carsmini/alfaromeo1900m.jpg\"/></a><p class=\"cars-list-head\"><a href=\"/cars/alfaromeo/1900m\">Alfa Romeo 1900 M</a></p></div><div class=\"col-6 col-sm-4\"><a href=\"/cars/alfaromeo/33\"><img class=\"img-fluid\" src=\"/i/carsmini/alfaromeo33.jpg\"/></a><p class=\"cars-list-head\"><a href=\"/cars/alfaromeo/33\">Alfa Romeo 33</a></p></div><div class=\"col-6 col-sm-4\"><a href=\"/cars/alfaromeo/4c\"><img class=\"img-fluid\" src=\"/i/carsmini/alfaromeo4c.jpg\"/></a><p class=\"cars-list-head\"><a href=\"/cars/alfaromeo/4c\">Alfa Romeo 4C</a></p></div><div class=\"col-6 col-sm-4\"><a href=\"/cars/alfaromeo/75\"><img class=\"img-fluid\" src=\"/i/carsmini/alfaromeo75.jpg\"/></a><p class=\"cars-list-head\"><a href=\"/cars/alfaromeo/75\">Alfa Romeo 75</a></p></div><div class=\"col-6 col-sm-4\"><a href=\"/cars/alfaromeo/8ccompetizione\"><img class=\"img-fluid\" src=\"/i/carsmini/alfaromeo8ccompetizione.jpg\"/></a><p class=\"cars-list-head\"><a href=\"/cars/alfaromeo/8ccompetizione\">Alfa Romeo 8C</a></p></div><div class=\"col-6 col-sm-4\"><a href=\"/cars/alfaromeo/90\"><img class=\"img-fluid\" src=\"/i/carsmini/alfaromeo90.jpg\"/></a><p class=\"cars-list-head\"><a href=\"/cars/alfaromeo/90\">Alfa Romeo 90</a></p></div><div class=\"col-6 col-sm-4\"><a href=\"/cars/alfaromeo/alfa6\"><img class=\"img-fluid\" src=\"/i/carsmini/alfaromeoalfa6.jpg\"/></a><p class=\"cars-list-head\"><a href=\"/cars/alfaromeo/alfa6\">Alfa Romeo Alfa 6</a></p></div><div class=\"col-6 col-sm-4\"><a href=\"/cars/alfaromeo/alfasud\"><img class=\"img-fluid\" src=\"/i/carsmini/alfaromeoalfasud.jpg\"/></a><p class=\"cars-list-head\"><a href=\"/cars/alfaromeo/alfasud\">Alfa Romeo Alfasud</a></p></div><div class=\"col-6 col-sm-4\"><a href=\"/cars/alfaromeo/alfetta\"><img class=\"img-fluid\" src=\"/i/carsmini/alfaromeoalfetta.jpg\"/></a><p class=\"cars-list-head\"><a href=\"/cars/alfaromeo/alfetta\">Alfa Romeo Alfetta</a></p></div><div class=\"col-6 col-sm-4\"><a href=\"/cars/alfaromeo/ar6\"><img class=\"img-fluid\" src=\"/i/carsmini/alfaromeoar6.jpg\"/></a><p class=\"cars-list-head\"><a href=\"/cars/alfaromeo/ar6\">Alfa Romeo AR6</a></p></div><div class=\"col-6 col-sm-4\"><a href=\"/cars/alfaromeo/ar8\"><img class=\"img-fluid\" src=\"/i/carsmini/alfaromeoar8.jpg\"/></a><p class=\"cars-list-head\"><a href=\"/cars/alfaromeo/ar8\">Alfa Romeo AR8</a></p></div><div class=\"col-6 col-sm-4\"><a href=\"/cars/alfaromeo/arna\"><img class=\"img-fluid\" src=\"/i/carsmini/alfaromeoarna.jpg\"/></a><p class=\"cars-list-head\"><a href=\"/cars/alfaromeo/arna\">Alfa Romeo Arna</a></p></div><div class=\"col-6 col-sm-4\"><a href=\"/cars/alfaromeo/brera\"><img class=\"img-fluid\" src=\"/i/carsmini/alfaromeobrera.jpg\"/></a><p class=\"cars-list-head\"><a href=\"/cars/alfaromeo/brera\">Alfa Romeo Brera</a></p></div><div class=\"col-6 col-sm-4\"><a href=\"/cars/alfaromeo/crosswagon\"><img class=\"img-fluid\" src=\"/i/carsmini/alfaromeocrosswagon.jpg\"/></a><p class=\"cars-list-head\"><a href=\"/cars/alfaromeo/crosswagon\">Alfa Romeo Crosswagon</a></p></div><div class=\"col-6 col-sm-4\"><a href=\"/cars/alfaromeo/giulia\"><img class=\"img-fluid\" src=\"/i/carsmini/alfaromeogiulia.jpg\"/></a><p class=\"cars-list-head\"><a href=\"/cars/alfaromeo/giulia\">Alfa Romeo Giulia</a></p></div><div class=\"col-6 col-sm-4\"><a href=\"/cars/alfaromeo/giulietta\"><img class=\"img-fluid\" src=\"/i/carsmini/alfaromeogiulietta.jpg\"/></a><p class=\"cars-list-head\"><a href=\"/cars/alfaromeo/giulietta\">Alfa Romeo Giulietta</a></p></div><div class=\"col-6 col-sm-4\"><a href=\"/cars/alfaromeo/gt\"><img class=\"img-fluid\" src=\"/i/carsmini/alfaromeogt.jpg\"/></a><p class=\"cars-list-head\"><a href=\"/cars/alfaromeo/gt\">Alfa Romeo GT</a></p></div><div class=\"col-6 col-sm-4\"><a href=\"/cars/alfaromeo/gtv\"><img class=\"img-fluid\" src=\"/i/carsmini/alfaromeogtv.jpg\"/></a><p class=\"cars-list-head\"><a href=\"/cars/alfaromeo/gtv\">Alfa Romeo GTV</a></p></div><div class=\"col-6 col-sm-4\"><a href=\"/cars/alfaromeo/mito\"><img class=\"img-fluid\" src=\"/i/carsmini/alfaromeomito.jpg\"/></a><p class=\"cars-list-head\"><a href=\"/cars/alfaromeo/mito\">Alfa Romeo MiTo</a></p></div><div class=\"col-6 col-sm-4\"><a href=\"/cars/alfaromeo/montreal\"><img class=\"img-fluid\" src=\"/i/carsmini/alfaromeomontreal.jpg\"/></a><p class=\"cars-list-head\"><a href=\"/cars/alfaromeo/montreal\">Alfa Romeo Montreal</a></p></div><div class=\"col-6 col-sm-4\"><a href=\"/cars/alfaromeo/romeo\"><img class=\"img-fluid\" src=\"/i/carsmini/alfaromeoromeo.jpg\"/></a><p class=\"cars-list-head\"><a href=\"/cars/alfaromeo/romeo\">Alfa Romeo Romeo</a></p></div><div class=\"col-6 col-sm-4\"><a href=\"/cars/alfaromeo/rz\"><img class=\"img-fluid\" src=\"/i/carsmini/alfaromeorz.jpg\"/></a><p class=\"cars-list-head\"><a href=\"/cars/alfaromeo/rz\">Alfa Romeo RZ</a></p></div><div class=\"col-6 col-sm-4\"><a href=\"/cars/alfaromeo/spider\"><img class=\"img-fluid\" src=\"/i/carsmini/alfaromeospider.jpg\"/></a><p class=\"cars-list-head\"><a href=\"/cars/alfaromeo/spider\">Alfa Romeo Spider</a></p></div><div class=\"col-6 col-sm-4\"><a href=\"/cars/alfaromeo/sprint\"><img class=\"img-fluid\" src=\"/i/carsmini/alfaromeosprint.jpg\"/></a><p class=\"cars-list-head\"><a href=\"/cars/alfaromeo/sprint\">Alfa Romeo Sprint</a></p></div><div class=\"col-6 col-sm-4\"><a href=\"/cars/alfaromeo/stelvio\"><img class=\"img-fluid\" src=\"/i/carsmini/alfaromeostelvio.jpg\"/></a><p class=\"cars-list-head\"><a href=\"/cars/alfaromeo/stelvio\">Alfa Romeo Stelvio</a></p></div><div class=\"col-6 col-sm-4\"><a href=\"/cars/alfaromeo/sz\"><img class=\"img-fluid\" src=\"/i/carsmini/alfaromeosz.jpg\"/></a><p class=\"cars-list-head\"><a href=\"/cars/alfaromeo/sz\">Alfa Romeo SZ</a></p></div></div>\n",
       " <div class=\"text-block\" style=\"margin-top:0.5em; margin-bottom:2em\"><p>Èòàëüÿíñêàÿ àâòîìîáèëüíàÿ ìàðêà Alfa Romeo áûëà ñîçäàíà â Ìèëàíå â 1910 ãîäó ïîä èìåíåì ALFA. Äåñÿòü ëåò ñïóñòÿ, ê íàçâàíèþ ïðèáàâèëîñü «Ðîìåî»  ôàìèëèÿ ïðåäïðèíèìàòåëÿ, ñòàâøåãî âëàäåëüöåì êîìïàíèè. Â 1986 ãîäó Alfa Romeo ïåðåøëà ïîä ïîëíûé êîíòðîëü «Ãðóïïû Ôèàò».</p></div><h2 class=\"h2-cars\" style=\"margin-top:1em\">Ïðîòîòèïû è êîíöåïò-êàðû Alfa Romeo</h2><div class=\"row cars-list-2\"><div class=\"col-6 col-sm-4\"><a href=\"/cars/alfaromeo/tonale\"><img class=\"img-fluid\" src=\"/i/carsmini/alfaromeotonale.jpg\"/></a><p class=\"cars-list-head\"><a href=\"/cars/alfaromeo/tonale\">Alfa Romeo Tonale</a></p><p class=\"cars-list-price\">2019</p></div><div class=\"col-6 col-sm-4\"><a href=\"/cars/alfaromeo/discovolante\"><img class=\"img-fluid\" src=\"/i/carsmini/alfaromeodiscovolante.jpg\"/></a><p class=\"cars-list-head\"><a href=\"/cars/alfaromeo/discovolante\">Alfa Romeo Disco Volante</a></p><p class=\"cars-list-price\">2013</p></div><div class=\"col-6 col-sm-4\"><a href=\"/cars/alfaromeo/visconti\"><img class=\"img-fluid\" src=\"/i/carsmini/alfaromeovisconti.jpg\"/></a><p class=\"cars-list-head\"><a href=\"/cars/alfaromeo/visconti\">Alfa Romeo Visconti</a></p><p class=\"cars-list-price\">2004</p></div><div class=\"col-6 col-sm-4\"><a href=\"/cars/alfaromeo/kamal\"><img class=\"img-fluid\" src=\"/i/carsmini/alfaromeokamal.jpg\"/></a><p class=\"cars-list-head\"><a href=\"/cars/alfaromeo/kamal\">Alfa Romeo Kamal</a></p><p class=\"cars-list-price\">2003</p></div><div class=\"col-6 col-sm-4\"><a href=\"/cars/alfaromeo/nuvola\"><img class=\"img-fluid\" src=\"/i/carsmini/alfaromeonuvola.jpg\"/></a><p class=\"cars-list-head\"><a href=\"/cars/alfaromeo/nuvola\">Alfa Romeo Nuvola</a></p><p class=\"cars-list-price\">1996</p></div><div class=\"col-6 col-sm-4\"><a href=\"/cars/alfaromeo/caimano\"><img class=\"img-fluid\" src=\"/i/carsmini/alfaromeocaimano.jpg\"/></a><p class=\"cars-list-head\"><a href=\"/cars/alfaromeo/caimano\">Alfa Romeo Caimano</a></p><p class=\"cars-list-price\">1971</p></div></div><div class=\"text-block\"><p>Â êàòàëîãå âû íàéä¸òå ìîäåëüíûé ðÿä Àëüôà Ðîìåî ñ ïîäðîáíîé èíôîðìàöèåé î ñåðèéíûõ àâòîìîáèëÿõ è êîíöåïò-êàðàõ.</p></div><div style=\"margin:3em 0 1em 0\">\n",
       " <!-- Yandex.RTB R-A-66433-90 -->\n",
       " <div id=\"yandex_rtb_R-A-66433-90\"></div>\n",
       " <script>window.yaContextCb.push(()=>{\n",
       "   Ya.Context.AdvManager.render({\n",
       "     renderTo: 'yandex_rtb_R-A-66433-90',\n",
       "     blockId: 'R-A-66433-90'\n",
       "   })\n",
       " })</script>\n",
       " </div>\n",
       " <div style=\"margin:3em 0 2em 0\"><p class=\"head-h3\">Ñàìîå ïîïóëÿðíîå</p><div class=\"row plitki2\"><div class=\"element col-12 col-sm-4 col-md-4\"><a href=\"/action/promo_redirect.php?n=1414\"><img alt=\"\" class=\"img-fluid\" src=\"/i/news_micro/14347.jpg\"/></a><p><a href=\"/action/promo_redirect.php?n=1414\">Áàçîâàÿ Ëàäà Ãðàíòà ïîäîðîæàëà íà 77 òûñÿ÷. ×òî äîáàâèëè â îñíàùåíèå?</a></p></div><div class=\"element col-12 col-sm-4 col-md-4\"><a href=\"/action/promo_redirect.php?n=1413\"><img alt=\"\" class=\"img-fluid\" src=\"/i/news_micro/14345.jpg\"/></a><p><a href=\"/action/promo_redirect.php?n=1413\">Èðàíñêèé àâòîìîáèëü äëÿ Ðîññèè  ïåðâàÿ èíôîðìàöèÿ</a></p></div><div class=\"element col-12 col-sm-4 col-md-4\"><a href=\"/action/promo_redirect.php?n=1412\"><img alt=\"\" class=\"img-fluid\" src=\"/i/news_micro/14343.jpg\"/></a><p><a href=\"/action/promo_redirect.php?n=1412\">ÀâòîÂÀÇ ñíîâà íà÷àë âûïóñêàòü ìàøèíû ñ ïîäóøêàìè áåçîïàñíîñòè</a></p></div></div></div><div class=\"mobileonly\"><div id=\"mobile-incontent-rectangle\">\n",
       " <script>\n",
       " window.rom = window.rom || {cmd: []};\n",
       " rom.cmd.push(function () {\n",
       " rom.displayPlacement('mobile-incontent-rectangle', 'acb9b31b-c04f-427a-83b9-936db9d7c106');\n",
       " });\n",
       " </script>\n",
       " </div></div></div>]"
      ]
     },
     "execution_count": 7,
     "metadata": {},
     "output_type": "execute_result"
    }
   ],
   "source": [
    "import requests\n",
    "from bs4 import BeautifulSoup\n",
    "url = \"https://wroom.ru/cars/alfaromeo?ysclid=l7bn5d3xle872439967\"\n",
    "r = requests.get(url)\n",
    "soup = BeautifulSoup(r.text, \"lxml\")\n",
    "b = soup.find_all('div', class_=\"col-12 col-xl-8 maintext\")\n",
    "b\n"
   ]
  },
  {
   "cell_type": "code",
   "execution_count": null,
   "id": "8a599dbb",
   "metadata": {},
   "outputs": [],
   "source": []
  }
 ],
 "metadata": {
  "kernelspec": {
   "display_name": "Python 3 (ipykernel)",
   "language": "python",
   "name": "python3"
  },
  "language_info": {
   "codemirror_mode": {
    "name": "ipython",
    "version": 3
   },
   "file_extension": ".py",
   "mimetype": "text/x-python",
   "name": "python",
   "nbconvert_exporter": "python",
   "pygments_lexer": "ipython3",
   "version": "3.10.4"
  }
 },
 "nbformat": 4,
 "nbformat_minor": 5
}
